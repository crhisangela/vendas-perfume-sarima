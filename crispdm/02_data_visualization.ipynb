{
 "cells": [
  {
   "cell_type": "markdown",
   "metadata": {},
   "source": [
    "## 0. Importações"
   ]
  },
  {
   "cell_type": "code",
   "execution_count": 161,
   "metadata": {},
   "outputs": [],
   "source": [
    "import pandas as pd\n",
    "import matplotlib.pyplot as plt\n"
   ]
  },
  {
   "cell_type": "code",
   "execution_count": 162,
   "metadata": {},
   "outputs": [
    {
     "data": {
      "text/html": [
       "<div>\n",
       "<style scoped>\n",
       "    .dataframe tbody tr th:only-of-type {\n",
       "        vertical-align: middle;\n",
       "    }\n",
       "\n",
       "    .dataframe tbody tr th {\n",
       "        vertical-align: top;\n",
       "    }\n",
       "\n",
       "    .dataframe thead th {\n",
       "        text-align: right;\n",
       "    }\n",
       "</style>\n",
       "<table border=\"1\" class=\"dataframe\">\n",
       "  <thead>\n",
       "    <tr style=\"text-align: right;\">\n",
       "      <th></th>\n",
       "      <th>brand</th>\n",
       "      <th>title</th>\n",
       "      <th>type</th>\n",
       "      <th>price</th>\n",
       "      <th>available</th>\n",
       "      <th>sold</th>\n",
       "      <th>total_sale</th>\n",
       "      <th>country</th>\n",
       "      <th>state</th>\n",
       "      <th>city</th>\n",
       "      <th>month</th>\n",
       "      <th>day</th>\n",
       "      <th>year</th>\n",
       "      <th>date</th>\n",
       "      <th>weekday</th>\n",
       "      <th>is_weekend</th>\n",
       "    </tr>\n",
       "  </thead>\n",
       "  <tbody>\n",
       "    <tr>\n",
       "      <th>0</th>\n",
       "      <td>Carolina Herrera</td>\n",
       "      <td>Good Girl by Carolina Herrera 2.7 oz Eau De Pa...</td>\n",
       "      <td>Eau de Parfum</td>\n",
       "      <td>43.99</td>\n",
       "      <td>2</td>\n",
       "      <td>393</td>\n",
       "      <td>17288.07</td>\n",
       "      <td>United States</td>\n",
       "      <td>Alabama</td>\n",
       "      <td>Thomasville</td>\n",
       "      <td>5.0</td>\n",
       "      <td>23</td>\n",
       "      <td>2024</td>\n",
       "      <td>2024-05-23</td>\n",
       "      <td>Thursday</td>\n",
       "      <td>0</td>\n",
       "    </tr>\n",
       "    <tr>\n",
       "      <th>1</th>\n",
       "      <td>As Shown</td>\n",
       "      <td>Parfums de Marly Delina La Rosee Eau de Parfum...</td>\n",
       "      <td>Eau de Parfum</td>\n",
       "      <td>79.99</td>\n",
       "      <td>5</td>\n",
       "      <td>40</td>\n",
       "      <td>3199.60</td>\n",
       "      <td>Hong Kong</td>\n",
       "      <td>New Jersey</td>\n",
       "      <td>New Jersey</td>\n",
       "      <td>5.0</td>\n",
       "      <td>24</td>\n",
       "      <td>2024</td>\n",
       "      <td>2024-05-24</td>\n",
       "      <td>Friday</td>\n",
       "      <td>0</td>\n",
       "    </tr>\n",
       "    <tr>\n",
       "      <th>2</th>\n",
       "      <td>PRADA</td>\n",
       "      <td>PRADA Paradoxe by Prada EDP 3.0oz/90ml Spray P...</td>\n",
       "      <td>Eau de Parfum</td>\n",
       "      <td>59.99</td>\n",
       "      <td>10</td>\n",
       "      <td>35</td>\n",
       "      <td>2099.65</td>\n",
       "      <td>United States</td>\n",
       "      <td>New Jersey</td>\n",
       "      <td>Orange</td>\n",
       "      <td>5.0</td>\n",
       "      <td>14</td>\n",
       "      <td>2024</td>\n",
       "      <td>2024-05-14</td>\n",
       "      <td>Tuesday</td>\n",
       "      <td>0</td>\n",
       "    </tr>\n",
       "    <tr>\n",
       "      <th>3</th>\n",
       "      <td>As Show</td>\n",
       "      <td>J'adore Parfum D'eau by Christian 3.4 oz EDP F...</td>\n",
       "      <td>Eau de Parfum</td>\n",
       "      <td>59.99</td>\n",
       "      <td>10</td>\n",
       "      <td>9</td>\n",
       "      <td>539.91</td>\n",
       "      <td>Hong Kong</td>\n",
       "      <td>New Jersey</td>\n",
       "      <td>USA</td>\n",
       "      <td>5.0</td>\n",
       "      <td>23</td>\n",
       "      <td>2024</td>\n",
       "      <td>2024-05-23</td>\n",
       "      <td>Thursday</td>\n",
       "      <td>0</td>\n",
       "    </tr>\n",
       "    <tr>\n",
       "      <th>4</th>\n",
       "      <td>Viktor &amp; Rolf</td>\n",
       "      <td>Flowerbomb by Viktor &amp; Rolf 3.4 oz 100ML Eau D...</td>\n",
       "      <td>Eau de Parfum</td>\n",
       "      <td>51.99</td>\n",
       "      <td>8</td>\n",
       "      <td>184</td>\n",
       "      <td>9566.16</td>\n",
       "      <td>United States</td>\n",
       "      <td>Michigan</td>\n",
       "      <td>Warren</td>\n",
       "      <td>5.0</td>\n",
       "      <td>23</td>\n",
       "      <td>2024</td>\n",
       "      <td>2024-05-23</td>\n",
       "      <td>Thursday</td>\n",
       "      <td>0</td>\n",
       "    </tr>\n",
       "    <tr>\n",
       "      <th>...</th>\n",
       "      <td>...</td>\n",
       "      <td>...</td>\n",
       "      <td>...</td>\n",
       "      <td>...</td>\n",
       "      <td>...</td>\n",
       "      <td>...</td>\n",
       "      <td>...</td>\n",
       "      <td>...</td>\n",
       "      <td>...</td>\n",
       "      <td>...</td>\n",
       "      <td>...</td>\n",
       "      <td>...</td>\n",
       "      <td>...</td>\n",
       "      <td>...</td>\n",
       "      <td>...</td>\n",
       "      <td>...</td>\n",
       "    </tr>\n",
       "    <tr>\n",
       "      <th>1869</th>\n",
       "      <td>GUESS</td>\n",
       "      <td>Guess 1981 by Guess cologne for men EDT 3.3 / ...</td>\n",
       "      <td>Eau de Toilette</td>\n",
       "      <td>20.28</td>\n",
       "      <td>45</td>\n",
       "      <td>1613</td>\n",
       "      <td>32711.64</td>\n",
       "      <td>United States</td>\n",
       "      <td>Texas</td>\n",
       "      <td>Dallas</td>\n",
       "      <td>5.0</td>\n",
       "      <td>24</td>\n",
       "      <td>2024</td>\n",
       "      <td>2024-05-24</td>\n",
       "      <td>Friday</td>\n",
       "      <td>0</td>\n",
       "    </tr>\n",
       "    <tr>\n",
       "      <th>1870</th>\n",
       "      <td>Armaf</td>\n",
       "      <td>Club de Nuit Intense by Armaf cologne for men ...</td>\n",
       "      <td>Eau de Toilette</td>\n",
       "      <td>30.58</td>\n",
       "      <td>10</td>\n",
       "      <td>31</td>\n",
       "      <td>947.98</td>\n",
       "      <td>United States</td>\n",
       "      <td>Unknown</td>\n",
       "      <td>United States</td>\n",
       "      <td>5.0</td>\n",
       "      <td>23</td>\n",
       "      <td>2024</td>\n",
       "      <td>2024-05-23</td>\n",
       "      <td>Thursday</td>\n",
       "      <td>0</td>\n",
       "    </tr>\n",
       "    <tr>\n",
       "      <th>1871</th>\n",
       "      <td>Paco Rabanne</td>\n",
       "      <td>Invictus by Paco Rabanne for Men EDT Spray 3.4...</td>\n",
       "      <td>Eau de Toilette</td>\n",
       "      <td>39.99</td>\n",
       "      <td>2</td>\n",
       "      <td>305</td>\n",
       "      <td>12196.95</td>\n",
       "      <td>United States</td>\n",
       "      <td>New York</td>\n",
       "      <td>Jamaica</td>\n",
       "      <td>5.0</td>\n",
       "      <td>23</td>\n",
       "      <td>2024</td>\n",
       "      <td>2024-05-23</td>\n",
       "      <td>Thursday</td>\n",
       "      <td>0</td>\n",
       "    </tr>\n",
       "    <tr>\n",
       "      <th>1872</th>\n",
       "      <td>Lomani</td>\n",
       "      <td>Lomani EDT Cologne 3.4 oz Men - Authentic, Bra...</td>\n",
       "      <td>Eau de Toilette</td>\n",
       "      <td>9.99</td>\n",
       "      <td>2</td>\n",
       "      <td>22</td>\n",
       "      <td>219.78</td>\n",
       "      <td>United States</td>\n",
       "      <td>Michigan</td>\n",
       "      <td>Lincoln Park</td>\n",
       "      <td>5.0</td>\n",
       "      <td>20</td>\n",
       "      <td>2024</td>\n",
       "      <td>2024-05-20</td>\n",
       "      <td>Monday</td>\n",
       "      <td>0</td>\n",
       "    </tr>\n",
       "    <tr>\n",
       "      <th>1873</th>\n",
       "      <td>Estee Lauder</td>\n",
       "      <td>Beyond Paradise by Estee Lauder for Men Cologn...</td>\n",
       "      <td>Cologne spray</td>\n",
       "      <td>17.49</td>\n",
       "      <td>10</td>\n",
       "      <td>24</td>\n",
       "      <td>419.76</td>\n",
       "      <td>United States</td>\n",
       "      <td>New Jersey</td>\n",
       "      <td>Keyport</td>\n",
       "      <td>2.0</td>\n",
       "      <td>28</td>\n",
       "      <td>2024</td>\n",
       "      <td>2024-02-28</td>\n",
       "      <td>Wednesday</td>\n",
       "      <td>0</td>\n",
       "    </tr>\n",
       "  </tbody>\n",
       "</table>\n",
       "<p>1874 rows × 16 columns</p>\n",
       "</div>"
      ],
      "text/plain": [
       "                 brand                                              title  \\\n",
       "0     Carolina Herrera  Good Girl by Carolina Herrera 2.7 oz Eau De Pa...   \n",
       "1             As Shown  Parfums de Marly Delina La Rosee Eau de Parfum...   \n",
       "2                PRADA  PRADA Paradoxe by Prada EDP 3.0oz/90ml Spray P...   \n",
       "3              As Show  J'adore Parfum D'eau by Christian 3.4 oz EDP F...   \n",
       "4        Viktor & Rolf  Flowerbomb by Viktor & Rolf 3.4 oz 100ML Eau D...   \n",
       "...                ...                                                ...   \n",
       "1869             GUESS  Guess 1981 by Guess cologne for men EDT 3.3 / ...   \n",
       "1870             Armaf  Club de Nuit Intense by Armaf cologne for men ...   \n",
       "1871      Paco Rabanne  Invictus by Paco Rabanne for Men EDT Spray 3.4...   \n",
       "1872            Lomani  Lomani EDT Cologne 3.4 oz Men - Authentic, Bra...   \n",
       "1873      Estee Lauder  Beyond Paradise by Estee Lauder for Men Cologn...   \n",
       "\n",
       "                 type  price  available  sold  total_sale        country  \\\n",
       "0       Eau de Parfum  43.99          2   393    17288.07  United States   \n",
       "1       Eau de Parfum  79.99          5    40     3199.60      Hong Kong   \n",
       "2       Eau de Parfum  59.99         10    35     2099.65  United States   \n",
       "3       Eau de Parfum  59.99         10     9      539.91      Hong Kong   \n",
       "4       Eau de Parfum  51.99          8   184     9566.16  United States   \n",
       "...               ...    ...        ...   ...         ...            ...   \n",
       "1869  Eau de Toilette  20.28         45  1613    32711.64  United States   \n",
       "1870  Eau de Toilette  30.58         10    31      947.98  United States   \n",
       "1871  Eau de Toilette  39.99          2   305    12196.95  United States   \n",
       "1872  Eau de Toilette   9.99          2    22      219.78  United States   \n",
       "1873    Cologne spray  17.49         10    24      419.76  United States   \n",
       "\n",
       "           state           city  month  day  year        date    weekday  \\\n",
       "0        Alabama    Thomasville    5.0   23  2024  2024-05-23   Thursday   \n",
       "1     New Jersey     New Jersey    5.0   24  2024  2024-05-24     Friday   \n",
       "2     New Jersey         Orange    5.0   14  2024  2024-05-14    Tuesday   \n",
       "3     New Jersey            USA    5.0   23  2024  2024-05-23   Thursday   \n",
       "4       Michigan         Warren    5.0   23  2024  2024-05-23   Thursday   \n",
       "...          ...            ...    ...  ...   ...         ...        ...   \n",
       "1869       Texas         Dallas    5.0   24  2024  2024-05-24     Friday   \n",
       "1870     Unknown  United States    5.0   23  2024  2024-05-23   Thursday   \n",
       "1871    New York        Jamaica    5.0   23  2024  2024-05-23   Thursday   \n",
       "1872    Michigan   Lincoln Park    5.0   20  2024  2024-05-20     Monday   \n",
       "1873  New Jersey        Keyport    2.0   28  2024  2024-02-28  Wednesday   \n",
       "\n",
       "      is_weekend  \n",
       "0              0  \n",
       "1              0  \n",
       "2              0  \n",
       "3              0  \n",
       "4              0  \n",
       "...          ...  \n",
       "1869           0  \n",
       "1870           0  \n",
       "1871           0  \n",
       "1872           0  \n",
       "1873           0  \n",
       "\n",
       "[1874 rows x 16 columns]"
      ]
     },
     "execution_count": 162,
     "metadata": {},
     "output_type": "execute_result"
    }
   ],
   "source": [
    "df = pd.read_csv('C:\\\\Users\\\\Cliente\\\\Documents\\\\Git\\\\case\\\\docs\\\\parfum_sales.csv')\n",
    "df"
   ]
  },
  {
   "cell_type": "markdown",
   "metadata": {},
   "source": [
    "## 1. Visão Geral"
   ]
  },
  {
   "cell_type": "code",
   "execution_count": 163,
   "metadata": {},
   "outputs": [
    {
     "data": {
      "text/html": [
       "<div>\n",
       "<style scoped>\n",
       "    .dataframe tbody tr th:only-of-type {\n",
       "        vertical-align: middle;\n",
       "    }\n",
       "\n",
       "    .dataframe tbody tr th {\n",
       "        vertical-align: top;\n",
       "    }\n",
       "\n",
       "    .dataframe thead th {\n",
       "        text-align: right;\n",
       "    }\n",
       "</style>\n",
       "<table border=\"1\" class=\"dataframe\">\n",
       "  <thead>\n",
       "    <tr style=\"text-align: right;\">\n",
       "      <th></th>\n",
       "      <th>Year</th>\n",
       "      <th>Total Sales</th>\n",
       "    </tr>\n",
       "  </thead>\n",
       "  <tbody>\n",
       "    <tr>\n",
       "      <th>0</th>\n",
       "      <td>2022</td>\n",
       "      <td>120</td>\n",
       "    </tr>\n",
       "    <tr>\n",
       "      <th>1</th>\n",
       "      <td>2023</td>\n",
       "      <td>499</td>\n",
       "    </tr>\n",
       "    <tr>\n",
       "      <th>2</th>\n",
       "      <td>2024</td>\n",
       "      <td>1249007</td>\n",
       "    </tr>\n",
       "  </tbody>\n",
       "</table>\n",
       "</div>"
      ],
      "text/plain": [
       "   Year  Total Sales\n",
       "0  2022          120\n",
       "1  2023          499\n",
       "2  2024      1249007"
      ]
     },
     "execution_count": 163,
     "metadata": {},
     "output_type": "execute_result"
    }
   ],
   "source": [
    "# total de vendas por ano\n",
    "sales_by_year = df.groupby(df['year'])['sold'].sum().reset_index()\n",
    "sales_by_year.columns = ['Year', 'Total Sales']\n",
    "sales_by_year"
   ]
  },
  {
   "cell_type": "code",
   "execution_count": 164,
   "metadata": {},
   "outputs": [
    {
     "data": {
      "text/html": [
       "<div>\n",
       "<style scoped>\n",
       "    .dataframe tbody tr th:only-of-type {\n",
       "        vertical-align: middle;\n",
       "    }\n",
       "\n",
       "    .dataframe tbody tr th {\n",
       "        vertical-align: top;\n",
       "    }\n",
       "\n",
       "    .dataframe thead th {\n",
       "        text-align: right;\n",
       "    }\n",
       "</style>\n",
       "<table border=\"1\" class=\"dataframe\">\n",
       "  <thead>\n",
       "    <tr style=\"text-align: right;\">\n",
       "      <th></th>\n",
       "      <th>year</th>\n",
       "      <th>Row Count</th>\n",
       "    </tr>\n",
       "  </thead>\n",
       "  <tbody>\n",
       "    <tr>\n",
       "      <th>0</th>\n",
       "      <td>2022</td>\n",
       "      <td>2</td>\n",
       "    </tr>\n",
       "    <tr>\n",
       "      <th>1</th>\n",
       "      <td>2023</td>\n",
       "      <td>5</td>\n",
       "    </tr>\n",
       "    <tr>\n",
       "      <th>2</th>\n",
       "      <td>2024</td>\n",
       "      <td>1867</td>\n",
       "    </tr>\n",
       "  </tbody>\n",
       "</table>\n",
       "</div>"
      ],
      "text/plain": [
       "   year  Row Count\n",
       "0  2022          2\n",
       "1  2023          5\n",
       "2  2024       1867"
      ]
     },
     "execution_count": 164,
     "metadata": {},
     "output_type": "execute_result"
    }
   ],
   "source": [
    "rows_per_year = df.groupby('year').size().reset_index(name='Row Count')\n",
    "rows_per_year"
   ]
  },
  {
   "cell_type": "markdown",
   "metadata": {},
   "source": [
    "A quantidade de dados de 2022 e 2023 é risória, sendo assim, eles serão removidos da análise."
   ]
  },
  {
   "cell_type": "code",
   "execution_count": 165,
   "metadata": {},
   "outputs": [],
   "source": [
    "df = df[df['year'] == 2024]"
   ]
  },
  {
   "cell_type": "code",
   "execution_count": 166,
   "metadata": {},
   "outputs": [
    {
     "data": {
      "text/html": [
       "<div>\n",
       "<style scoped>\n",
       "    .dataframe tbody tr th:only-of-type {\n",
       "        vertical-align: middle;\n",
       "    }\n",
       "\n",
       "    .dataframe tbody tr th {\n",
       "        vertical-align: top;\n",
       "    }\n",
       "\n",
       "    .dataframe thead th {\n",
       "        text-align: right;\n",
       "    }\n",
       "</style>\n",
       "<table border=\"1\" class=\"dataframe\">\n",
       "  <thead>\n",
       "    <tr style=\"text-align: right;\">\n",
       "      <th></th>\n",
       "      <th>month</th>\n",
       "      <th>Row Count</th>\n",
       "    </tr>\n",
       "  </thead>\n",
       "  <tbody>\n",
       "    <tr>\n",
       "      <th>0</th>\n",
       "      <td>1.0</td>\n",
       "      <td>5</td>\n",
       "    </tr>\n",
       "    <tr>\n",
       "      <th>1</th>\n",
       "      <td>2.0</td>\n",
       "      <td>21</td>\n",
       "    </tr>\n",
       "    <tr>\n",
       "      <th>2</th>\n",
       "      <td>3.0</td>\n",
       "      <td>29</td>\n",
       "    </tr>\n",
       "    <tr>\n",
       "      <th>3</th>\n",
       "      <td>4.0</td>\n",
       "      <td>88</td>\n",
       "    </tr>\n",
       "    <tr>\n",
       "      <th>4</th>\n",
       "      <td>5.0</td>\n",
       "      <td>1723</td>\n",
       "    </tr>\n",
       "  </tbody>\n",
       "</table>\n",
       "</div>"
      ],
      "text/plain": [
       "   month  Row Count\n",
       "0    1.0          5\n",
       "1    2.0         21\n",
       "2    3.0         29\n",
       "3    4.0         88\n",
       "4    5.0       1723"
      ]
     },
     "execution_count": 166,
     "metadata": {},
     "output_type": "execute_result"
    }
   ],
   "source": [
    "rows_per_month = df.groupby('month').size().reset_index(name='Row Count')\n",
    "rows_per_month"
   ]
  },
  {
   "cell_type": "code",
   "execution_count": 167,
   "metadata": {},
   "outputs": [],
   "source": [
    "# df = df[df['month'] == 5]"
   ]
  },
  {
   "cell_type": "code",
   "execution_count": 168,
   "metadata": {},
   "outputs": [],
   "source": [
    "## 2. Análise de dados"
   ]
  },
  {
   "cell_type": "code",
   "execution_count": 169,
   "metadata": {},
   "outputs": [
    {
     "data": {
      "image/png": "[encoded data removed]",
      "text/plain": [
       "<Figure size 1000x600 with 1 Axes>"
      ]
     },
     "metadata": {},
     "output_type": "display_data"
    }
   ],
   "source": [
    "df.groupby('date')['total_sale'].sum().plot(\n",
    "    kind='line',\n",
    "    title='Total de Vendas por Período',\n",
    "    xlabel='Data',\n",
    "    ylabel='Total de Vendas',\n",
    "    figsize=(10, 6)\n",
    ")\n",
    "\n",
    "plt.grid()\n",
    "plt.tight_layout()\n",
    "plt.show()"
   ]
  },
  {
   "cell_type": "markdown",
   "metadata": {},
   "source": [
    "um aumento exponencial aconteceu"
   ]
  },
  {
   "cell_type": "code",
   "execution_count": 170,
   "metadata": {},
   "outputs": [
    {
     "data": {
      "text/html": [
       "<div>\n",
       "<style scoped>\n",
       "    .dataframe tbody tr th:only-of-type {\n",
       "        vertical-align: middle;\n",
       "    }\n",
       "\n",
       "    .dataframe tbody tr th {\n",
       "        vertical-align: top;\n",
       "    }\n",
       "\n",
       "    .dataframe thead th {\n",
       "        text-align: right;\n",
       "    }\n",
       "</style>\n",
       "<table border=\"1\" class=\"dataframe\">\n",
       "  <thead>\n",
       "    <tr style=\"text-align: right;\">\n",
       "      <th></th>\n",
       "      <th>Mês</th>\n",
       "      <th>Unidades Vendidas</th>\n",
       "    </tr>\n",
       "  </thead>\n",
       "  <tbody>\n",
       "    <tr>\n",
       "      <th>0</th>\n",
       "      <td>1.0</td>\n",
       "      <td>1359</td>\n",
       "    </tr>\n",
       "    <tr>\n",
       "      <th>1</th>\n",
       "      <td>2.0</td>\n",
       "      <td>4188</td>\n",
       "    </tr>\n",
       "    <tr>\n",
       "      <th>2</th>\n",
       "      <td>3.0</td>\n",
       "      <td>4299</td>\n",
       "    </tr>\n",
       "    <tr>\n",
       "      <th>3</th>\n",
       "      <td>4.0</td>\n",
       "      <td>12114</td>\n",
       "    </tr>\n",
       "    <tr>\n",
       "      <th>4</th>\n",
       "      <td>5.0</td>\n",
       "      <td>1227047</td>\n",
       "    </tr>\n",
       "  </tbody>\n",
       "</table>\n",
       "</div>"
      ],
      "text/plain": [
       "   Mês  Unidades Vendidas\n",
       "0  1.0               1359\n",
       "1  2.0               4188\n",
       "2  3.0               4299\n",
       "3  4.0              12114\n",
       "4  5.0            1227047"
      ]
     },
     "execution_count": 170,
     "metadata": {},
     "output_type": "execute_result"
    }
   ],
   "source": [
    "#vendas por mes em 2024\n",
    "sales_2024 = df[df['year'] == 2024]\n",
    "\n",
    "sales_by_month_2024 = sales_2024.groupby('month')['sold'].sum().reset_index()\n",
    "sales_by_month_2024.columns = ['Mês', 'Unidades Vendidas']\n",
    "sales_by_month_2024"
   ]
  },
  {
   "cell_type": "code",
   "execution_count": 171,
   "metadata": {},
   "outputs": [],
   "source": [
    "# df = df[~((df['year'] == 2024) & (df['month'].isin([4, 5])))]"
   ]
  },
  {
   "cell_type": "code",
   "execution_count": 172,
   "metadata": {},
   "outputs": [
    {
     "data": {
      "image/png": "[encoded data removed]",
      "text/plain": [
       "<Figure size 640x480 with 1 Axes>"
      ]
     },
     "metadata": {},
     "output_type": "display_data"
    }
   ],
   "source": [
    "# Agrupando por is_weekend e calculando métricas\n",
    "weekend_analysis = df.groupby('is_weekend').agg(\n",
    "    total_sales=('sold', 'sum'),\n",
    "    total_items=('available', 'sum'),\n",
    "    avg_sales_per_item=('sold', 'mean')\n",
    ").reset_index()\n",
    "\n",
    "weekend_analysis.plot(\n",
    "    x='is_weekend',\n",
    "    y='total_sales',\n",
    "    kind='bar',\n",
    "    title='Vendas Totais por Tipo de Dia',\n",
    "    legend=False,\n",
    "    xlabel='é fim de semana?',\n",
    "    ylabel='Vendas Totais',\n",
    "    color=['blue', 'orange']\n",
    ")\n",
    "\n",
    "plt.xticks(rotation=0)\n",
    "plt.tight_layout()\n",
    "plt.show()"
   ]
  },
  {
   "cell_type": "code",
   "execution_count": 173,
   "metadata": {},
   "outputs": [
    {
     "data": {
      "image/png": "[encoded data removed]",
      "text/plain": [
       "<Figure size 640x480 with 1 Axes>"
      ]
     },
     "metadata": {},
     "output_type": "display_data"
    }
   ],
   "source": [
    "# Agrupando por is_weekend e calculando métricas\n",
    "weekend_analysis = df.groupby('weekday').agg(\n",
    "    total_sales=('sold', 'sum'),\n",
    "    total_items=('available', 'sum'),\n",
    "    avg_sales_per_item=('sold', 'mean')\n",
    ").reset_index()\n",
    "\n",
    "weekend_analysis.plot(\n",
    "    x='weekday',\n",
    "    y='total_sales',\n",
    "    kind='bar',\n",
    "    title='Vendas Totais por Dia da semana',\n",
    "    legend=False,\n",
    "    xlabel='',\n",
    "    ylabel='Vendas Totais',\n",
    "    color=['blue', 'orange']\n",
    ")\n",
    "\n",
    "plt.xticks(rotation=0)\n",
    "plt.tight_layout()\n",
    "plt.show()"
   ]
  },
  {
   "cell_type": "markdown",
   "metadata": {},
   "source": [
    "A maior parte das vendas é feitas entre quinta e sexta-feira"
   ]
  },
  {
   "cell_type": "code",
   "execution_count": 174,
   "metadata": {},
   "outputs": [
    {
     "name": "stdout",
     "output_type": "stream",
     "text": [
      "Average Availability: 19.00\n",
      "Average Sold: 668.99\n"
     ]
    },
    {
     "data": {
      "image/png": "[encoded data removed]",
      "text/plain": [
       "<Figure size 1000x600 with 1 Axes>"
      ]
     },
     "metadata": {},
     "output_type": "display_data"
    }
   ],
   "source": [
    "# vendas VS disponibilidade\n",
    "available_avg = df['available'].mean()\n",
    "sold_avg = df['sold'].mean()\n",
    "\n",
    "print(f\"Average Availability: {available_avg:.2f}\")\n",
    "print(f\"Average Sold: {sold_avg:.2f}\")\n",
    "\n",
    "plt.figure(figsize=(10, 6))\n",
    "plt.scatter(df['available'], df['sold'], alpha=0.5)\n",
    "plt.xlabel('Available Items')\n",
    "plt.ylabel('Sold Items')\n",
    "plt.title('vendas VS disponibilidade')\n",
    "plt.show()"
   ]
  },
  {
   "cell_type": "code",
   "execution_count": 175,
   "metadata": {},
   "outputs": [
    {
     "data": {
      "text/plain": [
       "<Axes: title={'center': 'Top 10 Estados com Mais Vendas'}, xlabel='state'>"
      ]
     },
     "execution_count": 175,
     "metadata": {},
     "output_type": "execute_result"
    },
    {
     "data": {
      "image/png": "[encoded data removed]",
      "text/plain": [
       "<Figure size 640x480 with 1 Axes>"
      ]
     },
     "metadata": {},
     "output_type": "display_data"
    }
   ],
   "source": [
    "df.groupby(['month', 'year'])['sold'].sum().plot(kind='bar', title='Vendas por Mês')\n",
    "df.groupby('state')['sold'].sum().sort_values(ascending=False).head(10).plot(kind='bar', title='Top 10 Estados com Mais Vendas')"
   ]
  },
  {
   "cell_type": "code",
   "execution_count": 176,
   "metadata": {},
   "outputs": [
    {
     "name": "stdout",
     "output_type": "stream",
     "text": [
      "0.19% das vendas foram feitas na Georgia entre quinta e sexta\n"
     ]
    }
   ],
   "source": [
    "georgia_friday_sales = df[(df['state'] == 'Georgia') & (df['weekday'].isin(['Friday', 'Thursday']))]['sold'].sum()\n",
    "\n",
    "total_sales = df['sold'].sum()\n",
    "\n",
    "percentage = (georgia_friday_sales / total_sales) * 100\n",
    "print(f\"{percentage:.2f}% das vendas foram feitas na Georgia entre quinta e sexta\")"
   ]
  },
  {
   "cell_type": "code",
   "execution_count": 177,
   "metadata": {
    "vscode": {
     "languageId": "ruby"
    }
   },
   "outputs": [
    {
     "data": {
      "text/html": [
       "<div>\n",
       "<style scoped>\n",
       "    .dataframe tbody tr th:only-of-type {\n",
       "        vertical-align: middle;\n",
       "    }\n",
       "\n",
       "    .dataframe tbody tr th {\n",
       "        vertical-align: top;\n",
       "    }\n",
       "\n",
       "    .dataframe thead th {\n",
       "        text-align: right;\n",
       "    }\n",
       "</style>\n",
       "<table border=\"1\" class=\"dataframe\">\n",
       "  <thead>\n",
       "    <tr style=\"text-align: right;\">\n",
       "      <th></th>\n",
       "      <th>title</th>\n",
       "      <th>sold</th>\n",
       "      <th>taxa</th>\n",
       "    </tr>\n",
       "  </thead>\n",
       "  <tbody>\n",
       "    <tr>\n",
       "      <th>396</th>\n",
       "      <td>Ck One by Calvin Klein Cologne Perfume Unisex ...</td>\n",
       "      <td>54052</td>\n",
       "      <td>4.327598</td>\n",
       "    </tr>\n",
       "    <tr>\n",
       "      <th>448</th>\n",
       "      <td>Cool Water by Davidoff 4.2 oz EDT Cologne for ...</td>\n",
       "      <td>40394</td>\n",
       "      <td>3.234089</td>\n",
       "    </tr>\n",
       "    <tr>\n",
       "      <th>1673</th>\n",
       "      <td>Versace Eros by Gianni Versace 3.4 oz EDT Colo...</td>\n",
       "      <td>31718</td>\n",
       "      <td>2.539457</td>\n",
       "    </tr>\n",
       "  </tbody>\n",
       "</table>\n",
       "</div>"
      ],
      "text/plain": [
       "                                                  title   sold      taxa\n",
       "396   Ck One by Calvin Klein Cologne Perfume Unisex ...  54052  4.327598\n",
       "448   Cool Water by Davidoff 4.2 oz EDT Cologne for ...  40394  3.234089\n",
       "1673  Versace Eros by Gianni Versace 3.4 oz EDT Colo...  31718  2.539457"
      ]
     },
     "execution_count": 177,
     "metadata": {},
     "output_type": "execute_result"
    }
   ],
   "source": [
    "#  os 3 produtos mais vendidos\n",
    "top3_sold = df.groupby('title', as_index=False)['sold'].sum().nlargest(3, 'sold')\n",
    "total_sold= df['sold'].sum()\n",
    "\n",
    "top3_sold['taxa'] = (top3_sold['sold'] / total_sold) * 100\n",
    "\n",
    "top3_sold"
   ]
  },
  {
   "cell_type": "code",
   "execution_count": 178,
   "metadata": {
    "vscode": {
     "languageId": "ruby"
    }
   },
   "outputs": [
    {
     "data": {
      "text/html": [
       "<div>\n",
       "<style scoped>\n",
       "    .dataframe tbody tr th:only-of-type {\n",
       "        vertical-align: middle;\n",
       "    }\n",
       "\n",
       "    .dataframe tbody tr th {\n",
       "        vertical-align: top;\n",
       "    }\n",
       "\n",
       "    .dataframe thead th {\n",
       "        text-align: right;\n",
       "    }\n",
       "</style>\n",
       "<table border=\"1\" class=\"dataframe\">\n",
       "  <thead>\n",
       "    <tr style=\"text-align: right;\">\n",
       "      <th></th>\n",
       "      <th>title</th>\n",
       "      <th>total_sale</th>\n",
       "      <th>taxa</th>\n",
       "    </tr>\n",
       "  </thead>\n",
       "  <tbody>\n",
       "    <tr>\n",
       "      <th>392</th>\n",
       "      <td>Chrome by Azzaro 6.7 / 6.8 oz EDT Cologne for ...</td>\n",
       "      <td>1420246.15</td>\n",
       "      <td>3.581902</td>\n",
       "    </tr>\n",
       "    <tr>\n",
       "      <th>396</th>\n",
       "      <td>Ck One by Calvin Klein Cologne Perfume Unisex ...</td>\n",
       "      <td>1291302.28</td>\n",
       "      <td>3.256702</td>\n",
       "    </tr>\n",
       "    <tr>\n",
       "      <th>1673</th>\n",
       "      <td>Versace Eros by Gianni Versace 3.4 oz EDT Colo...</td>\n",
       "      <td>1261424.86</td>\n",
       "      <td>3.181350</td>\n",
       "    </tr>\n",
       "  </tbody>\n",
       "</table>\n",
       "</div>"
      ],
      "text/plain": [
       "                                                  title  total_sale      taxa\n",
       "392   Chrome by Azzaro 6.7 / 6.8 oz EDT Cologne for ...  1420246.15  3.581902\n",
       "396   Ck One by Calvin Klein Cologne Perfume Unisex ...  1291302.28  3.256702\n",
       "1673  Versace Eros by Gianni Versace 3.4 oz EDT Colo...  1261424.86  3.181350"
      ]
     },
     "execution_count": 178,
     "metadata": {},
     "output_type": "execute_result"
    }
   ],
   "source": [
    "#  os 3 produtos mais vendidos\n",
    "top3_invoicing = df.groupby('title', as_index=False)['total_sale'].sum().nlargest(3, 'total_sale')\n",
    "total_invoincing = df['total_sale'].sum()\n",
    "\n",
    "# a taxa de participação nas vendas totais\n",
    "top3_invoicing['taxa'] = (top3_invoicing['total_sale'] / total_invoincing) * 100\n",
    "\n",
    "top3_invoicing"
   ]
  },
  {
   "cell_type": "code",
   "execution_count": 179,
   "metadata": {},
   "outputs": [
    {
     "name": "stderr",
     "output_type": "stream",
     "text": [
      "C:\\Users\\Cliente\\AppData\\Local\\Temp\\ipykernel_12892\\2100927036.py:1: SettingWithCopyWarning: \n",
      "A value is trying to be set on a copy of a slice from a DataFrame.\n",
      "Try using .loc[row_indexer,col_indexer] = value instead\n",
      "\n",
      "See the caveats in the documentation: https://pandas.pydata.org/pandas-docs/stable/user_guide/indexing.html#returning-a-view-versus-a-copy\n",
      "  df['date'] = pd.to_datetime(df['date'])\n"
     ]
    }
   ],
   "source": [
    "df['date'] = pd.to_datetime(df['date'])\n",
    "df = df.sort_values(by='date')\n",
    "df.to_csv('C:\\\\Users\\\\Cliente\\\\Documents\\\\Git\\\\case\\\\docs\\\\parfum_sales.csv', index=False)"
   ]
  }
 ],
 "metadata": {
  "kernelspec": {
   "display_name": "Python 3",
   "language": "python",
   "name": "python3"
  },
  "language_info": {
   "codemirror_mode": {
    "name": "ipython",
    "version": 3
   },
   "file_extension": ".py",
   "mimetype": "text/x-python",
   "name": "python",
   "nbconvert_exporter": "python",
   "pygments_lexer": "ipython3",
   "version": "3.10.10"
  }
 },
 "nbformat": 4,
 "nbformat_minor": 2
}
